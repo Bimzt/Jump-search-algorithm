{
 "cells": [
  {
   "cell_type": "code",
   "execution_count": 17,
   "id": "31f0c34d",
   "metadata": {},
   "outputs": [],
   "source": [
    "import math\n",
    "\n",
    "def jump_search(arr, target):\n",
    "    n = len(arr)\n",
    "    step = int(math.sqrt(n))\n",
    "    prev = 0\n",
    "    while prev < n and arr[min(step, n) - 1] < target:\n",
    "        prev = step\n",
    "        step += int(math.sqrt(n))\n",
    "        if prev >= n:\n",
    "            return -1\n",
    "    for i in range(prev, min(step, n)):\n",
    "        if arr[i] == target:\n",
    "            return i\n",
    "    return -1\n",
    "\n",
    "def bersihkan_teks(teks):\n",
    "    tanda_baca = '.,!?;:()[]{}\"\\''\n",
    "    for simbol in tanda_baca:\n",
    "        teks = teks.replace(simbol, '')\n",
    "    return teks\n",
    "\n",
    "def cariKata(namaFile, kataYangDicari):\n",
    "    try:\n",
    "        with open(namaFile, 'r') as file:\n",
    "            teks = file.read()\n",
    "        teks_bersih = bersihkan_teks(teks)\n",
    "        daftar_kata = teks_bersih.lower().split()\n",
    "        daftar_kata_terurut = sorted(daftar_kata)\n",
    "        hasil = jump_search(daftar_kata_terurut, kataYangDicari)\n",
    "        return hasil\n",
    "    except FileNotFoundError:\n",
    "        print(f\"File {namaFile} tidak ditemukan.\")\n",
    "        return -2\n",
    "    except Exception as e:\n",
    "        print(f\"Terjadi kesalahan: {e}\")\n",
    "        return -3"
   ]
  },
  {
   "cell_type": "code",
   "execution_count": 18,
   "id": "32043634",
   "metadata": {},
   "outputs": [
    {
     "name": "stdout",
     "output_type": "stream",
     "text": [
      "Kata 'paus' ditemukan pada indeks ke-295 dalam daftar kata terurut.\n"
     ]
    }
   ],
   "source": [
    "nama_file = \"Berita.txt\"\n",
    "kata_dicari = input(\"Masukkan kata yang ingin dicari (Jump Search): \")\n",
    "hasil = cariKata(nama_file, kata_dicari)\n",
    "\n",
    "if hasil == -1:\n",
    "    print(f\"Kata '{kata_dicari}' tidak ditemukan dalam teks di file berita.\")\n",
    "elif hasil >= 0:\n",
    "    print(f\"Kata '{kata_dicari}' ditemukan pada indeks ke-{hasil} dalam daftar kata terurut.\")"
   ]
  }
 ],
 "metadata": {
  "kernelspec": {
   "display_name": "Python 3",
   "language": "python",
   "name": "python3"
  },
  "language_info": {
   "codemirror_mode": {
    "name": "ipython",
    "version": 3
   },
   "file_extension": ".py",
   "mimetype": "text/x-python",
   "name": "python",
   "nbconvert_exporter": "python",
   "pygments_lexer": "ipython3",
   "version": "3.12.4"
  }
 },
 "nbformat": 4,
 "nbformat_minor": 5
}
